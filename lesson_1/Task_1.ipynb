{
 "cells": [
  {
   "cell_type": "markdown",
   "metadata": {},
   "source": [
    "# Урок 1. Алгоритм линейной регрессии. Градиентный спуск"
   ]
  },
  {
   "cell_type": "code",
   "execution_count": 3,
   "metadata": {
    "colab": {},
    "colab_type": "code",
    "id": "ak8b3KV45kVW"
   },
   "outputs": [],
   "source": [
    "import numpy as np\n",
    "import matplotlib.pyplot as plt"
   ]
  },
  {
   "cell_type": "code",
   "execution_count": 4,
   "metadata": {
    "colab": {},
    "colab_type": "code",
    "id": "i77tZbAd5plB"
   },
   "outputs": [],
   "source": [
    "X = np.array([[1, 1, 1, 1, 1, 1, 1, 1, 1, 1],   # для умножения на intercept\n",
    "              [1, 1, 2, 1, 3, 0, 5, 10, 1, 2]]) # стаж"
   ]
  },
  {
   "cell_type": "code",
   "execution_count": 5,
   "metadata": {
    "colab": {},
    "colab_type": "code",
    "id": "VsNrKi1Q6Wmh"
   },
   "outputs": [],
   "source": [
    "# средний балл ЕГЭ (целевая переменная)\n",
    "y = [45, 55, 50, 59, 65, 35, 75, 80, 50, 60]"
   ]
  },
  {
   "cell_type": "code",
   "execution_count": 6,
   "metadata": {
    "colab": {},
    "colab_type": "code",
    "id": "NntLxvtU7CbH"
   },
   "outputs": [],
   "source": [
    "y_pred1 = 45 * X[0] + 5 * X[1] \n",
    "y_pred2 = 40 + 6 * X[1]"
   ]
  },
  {
   "cell_type": "code",
   "execution_count": 8,
   "metadata": {
    "colab": {
     "base_uri": "https://localhost:8080/",
     "height": 34
    },
    "colab_type": "code",
    "id": "mnyZzkaDBegD",
    "outputId": "368800a6-deef-46d0-b27f-d6eb5e46a743"
   },
   "outputs": [
    {
     "data": {
      "text/plain": [
       "array([47.23214286,  3.91071429])"
      ]
     },
     "execution_count": 8,
     "metadata": {},
     "output_type": "execute_result"
    }
   ],
   "source": [
    "w = np.linalg.inv(X @ X.T) @ X @ y\n",
    "w"
   ]
  },
  {
   "cell_type": "code",
   "execution_count": 9,
   "metadata": {
    "colab": {
     "base_uri": "https://localhost:8080/",
     "height": 282
    },
    "colab_type": "code",
    "id": "Lyg-J3H7Bnv5",
    "outputId": "7701dd28-d123-4773-cd1f-1439abfb6d90"
   },
   "outputs": [
    {
     "data": {
      "image/png": "[encoded data removed]",
      "text/plain": [
       "<Figure size 432x288 with 1 Axes>"
      ]
     },
     "metadata": {
      "needs_background": "light"
     },
     "output_type": "display_data"
    }
   ],
   "source": [
    "plt.scatter(X[1], y)\n",
    "plt.plot(X[1], 45 + X[1] * 5, color='g')\n",
    "plt.plot(X[1], 40 + X[1] * 6)\n",
    "plt.plot(X[1], w[0] + w[1] * X[1], color='red');"
   ]
  },
  {
   "cell_type": "markdown",
   "metadata": {},
   "source": [
    "### Домашние задание"
   ]
  },
  {
   "cell_type": "markdown",
   "metadata": {
    "colab_type": "text",
    "id": "huXrhXQsZTMt"
   },
   "source": [
    "1. Подберите скорость обучения (alpha) и количество итераций (до совпадения ответов с результатами МНК):"
   ]
  },
  {
   "cell_type": "code",
   "execution_count": 11,
   "metadata": {},
   "outputs": [],
   "source": [
    "def calc_mse(y, y_pred):\n",
    "    err = np.mean((y - y_pred)**2)\n",
    "    return err\n",
    "\n",
    "def calc_mae(y, y_pred):\n",
    "    err = np.mean(np.abs(y - y_pred))\n",
    "    return err"
   ]
  },
  {
   "cell_type": "code",
   "execution_count": 43,
   "metadata": {
    "colab": {
     "base_uri": "https://localhost:8080/",
     "height": 185
    },
    "colab_type": "code",
    "id": "IDB22MQKMYaJ",
    "outputId": "4c03219e-a57c-4583-f439-6699fd0619bb"
   },
   "outputs": [
    {
     "name": "stdout",
     "output_type": "stream",
     "text": [
      "0 [ 7.75526 21.342  ] 3173.15\n",
      "10 [26.21429085  9.76092736] 404.4856281700696\n",
      "20 [36.24015429  6.32279402] 123.92168033574558\n",
      "30 [41.52090783  5.03957039] 66.14703291920164\n",
      "40 [44.27187538  4.4717635 ] 51.32559110874969\n",
      "50 [45.69915628  4.19659047] 47.379903169763\n",
      "60 [46.43854894  4.05780083] 46.323856927356985\n",
      "70 [46.82136878  3.98667236] 46.04099657513949\n",
      "80 [47.01953124  3.94999513] 45.965224786670646\n",
      "90 [47.12209966  3.93103858] 45.944926961039265\n",
      "100 [47.17518725  3.92123235] 45.93948954687766\n",
      "110 [47.20266414  3.91615791] 45.93803296319766\n",
      "120 [47.21688546  3.91353171] 45.937642771087475\n",
      "130 [47.22424604  3.9121725 ] 45.93753824576165\n",
      "140 [47.22805568  3.91146902] 45.93751024533965\n",
      "150 [47.23002744  3.91110491] 45.937502744539024\n",
      "160 [47.23104798  3.91091646] 45.93750073521178\n",
      "170 [47.23157618  3.91081893] 45.937500196949784\n",
      "180 [47.23184956  3.91076845] 45.93750005275924\n",
      "190 [47.23199105  3.91074232] 45.93750001413324\n",
      "200 [47.23206429  3.91072879] 45.93750000378604\n",
      "210 [47.23210219  3.91072179] 45.937500001014214\n",
      "220 [47.23212181  3.91071817] 45.93750000027168\n",
      "230 [47.23213196  3.9107163 ] 45.93750000007278\n",
      "240 [47.23213722  3.91071533] 45.93750000001949\n",
      "250 [47.23213994  3.91071482] 45.93750000000523\n",
      "260 [47.23214135  3.91071456] 45.937500000001386\n",
      "270 [47.23214208  3.91071443] 45.93750000000037\n",
      "280 [47.23214245  3.91071436] 45.9375000000001\n",
      "290 [47.23214265  3.91071432] 45.93750000000002\n",
      "300 [47.23214275  3.91071431] 45.937500000000014\n",
      "310 [47.2321428  3.9107143] 45.937500000000014\n",
      "320 [47.23214283  3.91071429] 45.93749999999999\n",
      "330 [47.23214284  3.91071429] 45.93750000000001\n",
      "340 [47.23214285  3.91071429] 45.937499999999986\n",
      "350 [47.23214285  3.91071429] 45.93750000000001\n",
      "360 [47.23214286  3.91071429] 45.9375\n",
      "370 [47.23214286  3.91071429] 45.937499999999986\n",
      "380 [47.23214286  3.91071429] 45.93750000000001\n",
      "390 [47.23214286  3.91071429] 45.93749999999999\n",
      "400 [47.23214286  3.91071429] 45.9375\n"
     ]
    }
   ],
   "source": [
    "n = X.shape[1]\n",
    "alpha = 0.0613\n",
    "w = np.array([1, 0.5])\n",
    "\n",
    "for i in range(400+1):\n",
    "    y_pred = np.dot(w, X)\n",
    "    err = calc_mse(y, y_pred)\n",
    "    for j in range(w.shape[0]):\n",
    "        w[j] -= alpha * (1/n * 2 * np.sum(X[j] * (y_pred - y)))\n",
    "    if i % 10 == 0:\n",
    "        print(i, w, err) \n",
    "        # МНК: array([47.23214286,  3.91071429]) 45.937499999999986"
   ]
  },
  {
   "cell_type": "markdown",
   "metadata": {},
   "source": [
    "$\\alpha = 0.0613, n = 360$"
   ]
  },
  {
   "cell_type": "markdown",
   "metadata": {
    "colab_type": "text",
    "id": "5Qu1o4JhZYwI"
   },
   "source": [
    "*2. В этом коде мы избавляемся от итераций по весам, но тут есть ошибка, исправьте ее:"
   ]
  },
  {
   "cell_type": "code",
   "execution_count": 70,
   "metadata": {
    "colab": {
     "base_uri": "https://localhost:8080/",
     "height": 185
    },
    "colab_type": "code",
    "id": "WZZzDCQLY4pA",
    "outputId": "28f58ade-72f2-4381-809d-2417752d56e4"
   },
   "outputs": [
    {
     "name": "stdout",
     "output_type": "stream",
     "text": [
      "0 [28.59726 28.09726] 3173.15\n",
      "100 [1.82002583e+20 1.82002583e+20] 2.8675448103053685e+41\n",
      "200 [1.9746441e+39 1.9746441e+39] 3.3754584886301254e+79\n",
      "300 [2.14239778e+58 2.14239778e+58] 3.973336342476152e+117\n",
      "400 [2.3244028e+77 2.3244028e+77] 4.67711327027721e+155\n",
      "500 [2.52186984e+96 2.52186984e+96] 5.505546638261816e+193\n",
      "600 [2.73611248e+115 2.73611248e+115] 6.480716209868378e+231\n",
      "700 [2.96855587e+134 2.96855587e+134] 7.628612625123578e+269\n",
      "800 [3.22074622e+153 3.22074622e+153] inf\n",
      "900 [3.49436112e+172 3.49436112e+172] inf\n"
     ]
    },
    {
     "name": "stderr",
     "output_type": "stream",
     "text": [
      "<ipython-input-11-421974dc77a9>:2: RuntimeWarning: overflow encountered in square\n",
      "  err = np.mean((y - y_pred)**2)\n"
     ]
    }
   ],
   "source": [
    "w = np.array([1, 0.5])\n",
    "\n",
    "for i in range(1000):\n",
    "    y_pred = np.dot(w, X)\n",
    "    err = calc_mse(y, y_pred)\n",
    "    '''for j in range(w.shape[0]):\n",
    "        w[j] -= alpha * (1/n * 2 * np.sum(X[j] * (y_pred - y)))'''\n",
    "    w -= (alpha * (1/n * 2 * np.sum(X * (y_pred - y))))\n",
    "    if i % 100 == 0:\n",
    "        print(i, w, err) # [47.23214286  3.91071429] 45.937499999999986"
   ]
  },
  {
   "cell_type": "markdown",
   "metadata": {},
   "source": [
    "Нужно убрать $np.sum$ и знак умножения между матрицей $X$ и $(y_{pred} - y)$ заменить на знак скалярного произведения $@$"
   ]
  },
  {
   "cell_type": "code",
   "execution_count": 72,
   "metadata": {},
   "outputs": [
    {
     "name": "stdout",
     "output_type": "stream",
     "text": [
      "0 [ 7.75526 21.342  ] 3173.15\n",
      "10 [26.21429085  9.76092736] 404.4856281700698\n",
      "20 [36.24015429  6.32279402] 123.92168033574565\n",
      "30 [41.52090783  5.03957039] 66.14703291920159\n",
      "40 [44.27187538  4.4717635 ] 51.32559110874968\n",
      "50 [45.69915628  4.19659047] 47.379903169763\n",
      "60 [46.43854894  4.05780083] 46.323856927356985\n",
      "70 [46.82136878  3.98667236] 46.04099657513949\n",
      "80 [47.01953124  3.94999513] 45.965224786670646\n",
      "90 [47.12209966  3.93103858] 45.944926961039265\n",
      "100 [47.17518725  3.92123235] 45.93948954687766\n",
      "110 [47.20266414  3.91615791] 45.93803296319766\n",
      "120 [47.21688546  3.91353171] 45.937642771087475\n",
      "130 [47.22424604  3.9121725 ] 45.93753824576165\n",
      "140 [47.22805568  3.91146902] 45.93751024533965\n",
      "150 [47.23002744  3.91110491] 45.937502744539024\n",
      "160 [47.23104798  3.91091646] 45.93750073521178\n",
      "170 [47.23157618  3.91081893] 45.937500196949784\n",
      "180 [47.23184956  3.91076845] 45.93750005275924\n",
      "190 [47.23199105  3.91074232] 45.93750001413324\n",
      "200 [47.23206429  3.91072879] 45.93750000378604\n",
      "210 [47.23210219  3.91072179] 45.937500001014214\n",
      "220 [47.23212181  3.91071817] 45.93750000027168\n",
      "230 [47.23213196  3.9107163 ] 45.93750000007278\n",
      "240 [47.23213722  3.91071533] 45.93750000001949\n",
      "250 [47.23213994  3.91071482] 45.93750000000523\n",
      "260 [47.23214135  3.91071456] 45.937500000001386\n",
      "270 [47.23214208  3.91071443] 45.93750000000037\n",
      "280 [47.23214245  3.91071436] 45.9375000000001\n",
      "290 [47.23214265  3.91071432] 45.93750000000002\n",
      "300 [47.23214275  3.91071431] 45.937500000000014\n",
      "310 [47.2321428  3.9107143] 45.937500000000014\n",
      "320 [47.23214283  3.91071429] 45.93749999999999\n",
      "330 [47.23214284  3.91071429] 45.93750000000001\n",
      "340 [47.23214285  3.91071429] 45.937499999999986\n",
      "350 [47.23214285  3.91071429] 45.93750000000001\n",
      "360 [47.23214286  3.91071429] 45.9375\n"
     ]
    }
   ],
   "source": [
    "w = np.array([1, 0.5])\n",
    "alpha = 0.0613\n",
    "\n",
    "for i in range(360+1):\n",
    "    y_pred = np.dot(w, X)\n",
    "    err = calc_mse(y, y_pred)\n",
    "    w -= (alpha * (1/n * 2 * (X @ (y_pred - y))))\n",
    "    if i % 10 == 0:\n",
    "        print(i, w, err) \n",
    "        # МНК: array([47.23214286,  3.91071429]) 45.937499999999986"
   ]
  },
  {
   "cell_type": "markdown",
   "metadata": {
    "colab": {},
    "colab_type": "code",
    "id": "kGLyytFgHdco"
   },
   "source": [
    "*3. Вместо того, чтобы задавать количество итераций, задайте условие остановки алгоритма - когда ошибка за итерацию начинает изменяться ниже определенного порога. \n",
    "\n",
    "Сколько нужно сделать итераций, если установить допустимое отклонение mse в размере $\\text{diff}=10^{-6}$, а значение $\\alpha=10^{-2}$?"
   ]
  },
  {
   "cell_type": "code",
   "execution_count": 95,
   "metadata": {},
   "outputs": [
    {
     "name": "stdout",
     "output_type": "stream",
     "text": [
      "0 [2.102 3.9  ] 3173.15\n",
      "10 [ 7.88197949 10.94665576] 895.7992568721307\n",
      "20 [11.82321845 10.44288316] 734.1943046789495\n",
      "30 [15.33838126  9.79996576] 604.3598272772634\n",
      "40 [18.50371626  9.21563317] 499.01844357436784\n",
      "50 [21.35487986  8.68914872] 413.5487715072507\n",
      "60 [23.92307798  8.21491142] 344.20218946868323\n",
      "70 [26.23639435  7.78773986] 287.9372205719397\n",
      "80 [28.32012482  7.40296309] 242.28613537222662\n",
      "90 [30.19705472  7.05637362] 205.24671953719772\n",
      "100 [31.88770806  6.74418155] 175.19445858001842\n",
      "110 [33.4105719   6.46297309] 150.81128815797626\n",
      "120 [34.78229859  6.20967327] 131.0277849906938\n",
      "130 [36.01788778  5.98151227] 114.97626294514153\n",
      "140 [37.13085048  5.7759952 ] 101.95271712515977\n",
      "150 [38.13335681  5.59087473] 91.38594686849362\n",
      "160 [39.03636904  5.42412662] 82.8125034145725\n",
      "170 [39.8497615   5.27392748] 75.85636347094018\n",
      "180 [40.58242855  5.1386349 ] 70.21243717977558\n",
      "190 [41.24238179  5.01676949] 65.63318715918639\n",
      "200 [41.83683774  4.90699865] 61.9177717428135\n",
      "210 [42.3722967   4.80812205] 58.903236250286454\n",
      "220 [42.85461385  4.7190585 ] 56.45736594580863\n",
      "230 [43.28906326  4.6388341 ] 54.472887222252005\n",
      "240 [43.68039559  4.56657159] 52.86276268006376\n",
      "250 [44.03289    4.5014808] 51.556373747502974\n",
      "260 [44.35040098  4.44284997] 50.49642341546347\n",
      "270 [44.63640047  4.39003797] 49.63642324370124\n",
      "280 [44.89401584  4.34246733] 48.938654420884696\n",
      "290 [45.12606408  4.29961784] 48.37251345245091\n",
      "300 [45.33508261  4.26102097] 47.913169919666785\n",
      "310 [45.52335702  4.22625466] 47.540477440452136\n",
      "320 [45.69294608  4.19493875] 47.23809006771321\n",
      "330 [45.8457042   4.16673079] 46.99274537123693\n",
      "340 [45.9833018   4.14132234] 46.79368275977983\n",
      "350 [46.10724347  4.11843556] 46.63217153149881\n",
      "360 [46.21888451  4.09782019] 46.501127953451196\n",
      "370 [46.31944569  4.0792508 ] 46.394804575626104\n",
      "380 [46.41002664  4.06252433] 46.30853815310798\n",
      "390 [46.49161786  4.04745789] 46.23854512047204\n",
      "400 [46.56511152  4.03388672] 46.181755648107604\n",
      "410 [46.63131128  4.02166243] 46.135679002333305\n",
      "420 [46.69094102  4.01065134] 46.09829430412402\n",
      "430 [46.74465279  4.00073306] 46.06796189522763\n",
      "440 [46.79303391  3.99179911] 46.043351424272245\n",
      "450 [46.83661344  3.98375182] 46.023383498786444\n",
      "460 [46.87586789  3.97650318] 46.00718234404508\n",
      "470 [46.91122653  3.96997394] 45.9940373924005\n",
      "480 [46.94307598  3.9640927 ] 45.98337211844342\n",
      "490 [46.97176453  3.95879514] 45.974718753132045\n",
      "500 [46.99760587  3.95402334] 45.96769776787538\n",
      "510 [47.02088257  3.94972511] 45.96200122876011\n",
      "520 [47.04184917  3.94585347] 45.95737929085465\n",
      "530 [47.06073494  3.94236607] 45.95362924024148\n",
      "540 [47.07774638  3.93922478] 45.95058660317262\n",
      "550 [47.09306951  3.93639524] 45.94811793240307\n",
      "560 [47.10687189  3.93384653] 45.946114954318524\n",
      "570 [47.11930445  3.93155076] 45.94448982015447\n",
      "580 [47.13050314  3.92948284] 45.943171253031146\n",
      "590 [47.14059041  3.92762015] 45.94210142181522\n",
      "600 [47.14967657  3.92594232] 45.941233404700036\n",
      "610 [47.15786096  3.92443101] 45.94052913125854\n",
      "620 [47.16523309  3.92306969] 45.93995771270965\n",
      "630 [47.17187358  3.92184347] 45.93949408716479\n",
      "640 [47.17785502  3.92073895] 45.93911792043683\n",
      "650 [47.18324284  3.91974405] 45.93881271420132\n",
      "660 [47.18809594  3.91884789] 45.93856508239536\n",
      "670 [47.19246739  3.91804066] 45.938364164117175\n",
      "680 [47.196405    3.91731356] 45.938201147277155\n",
      "690 [47.19995181  3.91665861] 45.93806888210753\n",
      "700 [47.20314662  3.91606866] 45.93796156758051\n",
      "710 [47.20602437  3.91553726] 45.937874496980186\n",
      "720 [47.2086165   3.91505861] 45.93780385147075\n",
      "730 [47.21095139  3.91462745] 45.937746532605466\n",
      "740 [47.21305454  3.91423909] 45.93770002643205\n",
      "750 [47.21494897  3.91388927] 45.93766229323273\n",
      "760 [47.21665538  3.91357417] 45.93763167806431\n",
      "770 [47.21819244  3.91329034] 45.93760683817393\n",
      "780 [47.21957696  3.91303468] 45.937586684106954\n",
      "790 [47.22082406  3.91280439] 45.93757033192462\n",
      "800 [47.2219474   3.91259695] 45.93755706443538\n",
      "809 [47.22276525  3.91244593] 45.93754827651849\n"
     ]
    }
   ],
   "source": [
    "w = np.array([1, 0.5])\n",
    "diff = 1e-6\n",
    "alpha = 1e-2\n",
    "\n",
    "err = 2 * calc_mse(y, np.dot(w, X))\n",
    "i = 0\n",
    "\n",
    "\n",
    "while err - calc_mse(y, np.dot(w, X)) > diff:\n",
    "    y_pred = np.dot(w, X)\n",
    "    err = calc_mse(y, y_pred)\n",
    "    w -= (alpha * (1/n * 2 * (X @ (y_pred - y))))\n",
    "    \n",
    "    if i % 10 == 0:\n",
    "        print(i, w, err)\n",
    "    \n",
    "    i+=1\n",
    "    \n",
    "print(i, w, err)"
   ]
  },
  {
   "cell_type": "markdown",
   "metadata": {},
   "source": [
    "Заметки по матричным вычислениям http://www.machinelearning.ru/wiki/images/2/2a/Matrix-Gauss.pdf"
   ]
  },
  {
   "cell_type": "code",
   "execution_count": null,
   "metadata": {},
   "outputs": [],
   "source": []
  }
 ],
 "metadata": {
  "colab": {
   "collapsed_sections": [],
   "name": "Lesson1.ipynb",
   "provenance": []
  },
  "kernelspec": {
   "display_name": "Python 3",
   "language": "python",
   "name": "python3"
  },
  "language_info": {
   "codemirror_mode": {
    "name": "ipython",
    "version": 3
   },
   "file_extension": ".py",
   "mimetype": "text/x-python",
   "name": "python",
   "nbconvert_exporter": "python",
   "pygments_lexer": "ipython3",
   "version": "3.8.5"
  },
  "toc": {
   "base_numbering": 1,
   "nav_menu": {},
   "number_sections": false,
   "sideBar": true,
   "skip_h1_title": true,
   "title_cell": "План занятия",
   "title_sidebar": "План",
   "toc_cell": true,
   "toc_position": {
    "height": "calc(100% - 180px)",
    "left": "10px",
    "top": "150px",
    "width": "165px"
   },
   "toc_section_display": true,
   "toc_window_display": true
  }
 },
 "nbformat": 4,
 "nbformat_minor": 1
}
