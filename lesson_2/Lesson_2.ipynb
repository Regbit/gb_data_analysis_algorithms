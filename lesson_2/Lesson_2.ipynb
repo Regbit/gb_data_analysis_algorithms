{
 "cells": [
  {
   "cell_type": "markdown",
   "metadata": {},
   "source": [
    "# Урок 2. Масштабирование признаков. Регуляризация. Стохастический градиентный спуск."
   ]
  },
  {
   "cell_type": "markdown",
   "metadata": {
    "toc": true
   },
   "source": [
    "<h1>План урока<span class=\"tocSkip\"></span></h1>\n",
    "<div class=\"toc\"><ul class=\"toc-item\"><li><span><a href=\"#Масштабирование-признаков\" data-toc-modified-id=\"Масштабирование-признаков-1\">Масштабирование признаков</a></span><ul class=\"toc-item\"><li><span><a href=\"#Нормализация-[0,-1]\" data-toc-modified-id=\"Нормализация-[0,-1]-1.1\">Нормализация [0, 1]</a></span></li><li><span><a href=\"#Стандартизация\" data-toc-modified-id=\"Стандартизация-1.2\">Стандартизация</a></span></li></ul></li><li><span><a href=\"#Стохастический-градиентный-спуск-(Stochastic-Gradient-Descent,-SGD)\" data-toc-modified-id=\"Стохастический-градиентный-спуск-(Stochastic-Gradient-Descent,-SGD)-2\">Стохастический градиентный спуск (Stochastic Gradient Descent, SGD)</a></span></li><li><span><a href=\"#Регуляризация\" data-toc-modified-id=\"Регуляризация-3\">Регуляризация</a></span><ul class=\"toc-item\"><li><span><a href=\"#L1-регуляризация---Lasso\" data-toc-modified-id=\"L1-регуляризация---Lasso-3.1\">L1 регуляризация - Lasso</a></span></li><li><span><a href=\"#L2-регуляризация---Ridge\" data-toc-modified-id=\"L2-регуляризация---Ridge-3.2\">L2 регуляризация - Ridge</a></span></li></ul></li><li><span><a href=\"#Домашние-задания\" data-toc-modified-id=\"Домашние-задания-4\">Домашние задания</a></span></li></ul></div>"
   ]
  },
  {
   "cell_type": "code",
   "execution_count": 1,
   "metadata": {
    "colab": {},
    "colab_type": "code",
    "id": "_u5bV-OlT34p"
   },
   "outputs": [],
   "source": [
    "import numpy as np\n",
    "import matplotlib.pyplot as plt\n",
    "plt.rcParams.update({'font.size': 14,\n",
    "                     'xtick.labelsize': 14})"
   ]
  },
  {
   "cell_type": "markdown",
   "metadata": {},
   "source": [
    "## Масштабирование признаков"
   ]
  },
  {
   "cell_type": "code",
   "execution_count": 2,
   "metadata": {
    "colab": {},
    "colab_type": "code",
    "id": "_n6il-AZaLuA"
   },
   "outputs": [],
   "source": [
    "# К признаку стажа добавим новые признаки\n",
    "X = np.array([[1, 1, 1, 1, 1, 1, 1, 1, 1, 1],\n",
    "              [1, 1, 2, 1, 3, 0, 5, 10, 1, 2],  # стаж\n",
    "              [500, 700, 750, 600, 1450,        # средняя стоимость занятия\n",
    "               800, 1500, 2000, 450, 1000],\n",
    "              [1, 1, 2, 1, 2, 1, 3, 3, 1, 2]])  # квалификация репетитора\n",
    "               \n",
    "y = [45, 55, 50, 59, 65, 35, 75, 80, 50, 60]    # средний балл ЕГЭ (целевая переменная)"
   ]
  },
  {
   "cell_type": "code",
   "execution_count": 3,
   "metadata": {},
   "outputs": [
    {
     "data": {
      "text/plain": [
       "array([3.98828270e+01, 2.18657683e+00, 2.94591674e-03, 5.27047320e+00])"
      ]
     },
     "execution_count": 3,
     "metadata": {},
     "output_type": "execute_result"
    }
   ],
   "source": [
    "np.linalg.inv(X @ X.T) @ X @ y"
   ]
  },
  {
   "cell_type": "markdown",
   "metadata": {},
   "source": [
    "### Нормализация [0, 1]"
   ]
  },
  {
   "cell_type": "code",
   "execution_count": 4,
   "metadata": {
    "colab": {
     "base_uri": "https://localhost:8080/",
     "height": 34
    },
    "colab_type": "code",
    "id": "Ei5qeZO_aT6m",
    "outputId": "fa5f34f5-dda6-4654-eceb-8fa6877723dc"
   },
   "outputs": [
    {
     "data": {
      "text/plain": [
       "(0, 10)"
      ]
     },
     "execution_count": 4,
     "metadata": {},
     "output_type": "execute_result"
    }
   ],
   "source": [
    "X[1].min(), X[1].max()"
   ]
  },
  {
   "cell_type": "code",
   "execution_count": 5,
   "metadata": {
    "colab": {
     "base_uri": "https://localhost:8080/",
     "height": 34
    },
    "colab_type": "code",
    "id": "L7wsW1Q7b4Ts",
    "outputId": "3e75a3c2-eb7b-4513-af0a-0fe07b58890a"
   },
   "outputs": [
    {
     "data": {
      "text/plain": [
       "(450, 2000)"
      ]
     },
     "execution_count": 5,
     "metadata": {},
     "output_type": "execute_result"
    }
   ],
   "source": [
    "X[2].min(), X[2].max()"
   ]
  },
  {
   "cell_type": "code",
   "execution_count": 6,
   "metadata": {
    "colab": {
     "base_uri": "https://localhost:8080/",
     "height": 155
    },
    "colab_type": "code",
    "id": "E55S9Bzob9Xa",
    "outputId": "640d733b-404c-49cc-9763-6c8cf156c30e"
   },
   "outputs": [
    {
     "data": {
      "text/plain": [
       "array([[1.00e+00, 1.00e+00, 1.00e+00, 1.00e+00, 1.00e+00, 1.00e+00,\n",
       "        1.00e+00, 1.00e+00, 1.00e+00, 1.00e+00],\n",
       "       [1.00e+00, 1.00e+00, 2.00e+00, 1.00e+00, 3.00e+00, 0.00e+00,\n",
       "        5.00e+00, 1.00e+01, 1.00e+00, 2.00e+00],\n",
       "       [5.00e+02, 7.00e+02, 7.50e+02, 6.00e+02, 1.45e+03, 8.00e+02,\n",
       "        1.50e+03, 2.00e+03, 4.50e+02, 1.00e+03],\n",
       "       [1.00e+00, 1.00e+00, 2.00e+00, 1.00e+00, 2.00e+00, 1.00e+00,\n",
       "        3.00e+00, 3.00e+00, 1.00e+00, 2.00e+00]])"
      ]
     },
     "execution_count": 6,
     "metadata": {},
     "output_type": "execute_result"
    }
   ],
   "source": [
    "X_norm = X.copy()\n",
    "X_norm = X_norm.astype(np.float64)\n",
    "X_norm"
   ]
  },
  {
   "cell_type": "markdown",
   "metadata": {},
   "source": [
    "$$x_{ij} = \\frac{x_{ij} - min_{j} (x_{ij})}{max_{j} (x_{ij})-min_{j} (x_{ij})}$$"
   ]
  },
  {
   "cell_type": "code",
   "execution_count": 7,
   "metadata": {
    "colab": {
     "base_uri": "https://localhost:8080/",
     "height": 155
    },
    "colab_type": "code",
    "id": "7x-6IuPOcIo0",
    "outputId": "358cc945-0d0b-43c4-eb84-91b902fab2d9"
   },
   "outputs": [
    {
     "data": {
      "text/plain": [
       "array([0.1, 0.1, 0.2, 0.1, 0.3, 0. , 0.5, 1. , 0.1, 0.2])"
      ]
     },
     "execution_count": 7,
     "metadata": {},
     "output_type": "execute_result"
    }
   ],
   "source": [
    "X_norm[1] = (X[1] - X[1].min()) / (X[1].max() - X[1].min())\n",
    "X_norm[1]"
   ]
  },
  {
   "cell_type": "code",
   "execution_count": 8,
   "metadata": {
    "colab": {
     "base_uri": "https://localhost:8080/",
     "height": 155
    },
    "colab_type": "code",
    "id": "izkMRdXFcjyK",
    "outputId": "c663a777-7eac-466c-ff56-a76087f3b90b"
   },
   "outputs": [
    {
     "data": {
      "text/plain": [
       "array([0.03225806, 0.16129032, 0.19354839, 0.09677419, 0.64516129,\n",
       "       0.22580645, 0.67741935, 1.        , 0.        , 0.35483871])"
      ]
     },
     "execution_count": 8,
     "metadata": {},
     "output_type": "execute_result"
    }
   ],
   "source": [
    "X_norm[2] = (X[2] - X[2].min()) / (X[2].max() - X[2].min())\n",
    "X_norm[2]"
   ]
  },
  {
   "cell_type": "markdown",
   "metadata": {
    "colab": {},
    "colab_type": "code",
    "id": "Zy63bpFfeqzu"
   },
   "source": [
    "### Стандартизация"
   ]
  },
  {
   "cell_type": "code",
   "execution_count": 9,
   "metadata": {
    "colab": {
     "base_uri": "https://localhost:8080/",
     "height": 317
    },
    "colab_type": "code",
    "id": "8i9pB-3-fMD4",
    "outputId": "4a249998-968a-4862-b18c-68a32825c0b9"
   },
   "outputs": [
    {
     "data": {
      "image/png": "[encoded data removed]",
      "text/plain": [
       "<Figure size 432x288 with 1 Axes>"
      ]
     },
     "metadata": {
      "needs_background": "light"
     },
     "output_type": "display_data"
    }
   ],
   "source": [
    "plt.hist(X[1]);"
   ]
  },
  {
   "cell_type": "code",
   "execution_count": 10,
   "metadata": {
    "colab": {
     "base_uri": "https://localhost:8080/",
     "height": 334
    },
    "colab_type": "code",
    "id": "-bnAYQqVfRX-",
    "outputId": "3fbece7c-6155-4688-e12f-725c1a3e0b8a"
   },
   "outputs": [
    {
     "data": {
      "image/png": "[encoded data removed]",
      "text/plain": [
       "<Figure size 432x288 with 1 Axes>"
      ]
     },
     "metadata": {
      "needs_background": "light"
     },
     "output_type": "display_data"
    }
   ],
   "source": [
    "plt.hist(X[2]);"
   ]
  },
  {
   "cell_type": "markdown",
   "metadata": {},
   "source": [
    "$$s_{ij}=\\frac{x_{ij} - \\mu_{j}}{\\sigma_{j}}$$"
   ]
  },
  {
   "cell_type": "code",
   "execution_count": 11,
   "metadata": {
    "colab": {},
    "colab_type": "code",
    "id": "M57-Pzl_f_rF"
   },
   "outputs": [
    {
     "data": {
      "text/plain": [
       "array([-0.57142857, -0.57142857, -0.21428571, -0.57142857,  0.14285714,\n",
       "       -0.92857143,  0.85714286,  2.64285714, -0.57142857, -0.21428571])"
      ]
     },
     "execution_count": 11,
     "metadata": {},
     "output_type": "execute_result"
    }
   ],
   "source": [
    "X_st = X.copy().astype(np.float64)\n",
    "\n",
    "X_st[1] = (X[1] - X[1].mean()) / X[1].std()\n",
    "X_st[1]"
   ]
  },
  {
   "cell_type": "code",
   "execution_count": 12,
   "metadata": {},
   "outputs": [
    {
     "data": {
      "text/plain": [
       "(3.3306690738754695e-17, 1.0)"
      ]
     },
     "execution_count": 12,
     "metadata": {},
     "output_type": "execute_result"
    }
   ],
   "source": [
    "X_st[1].mean(), X_st[1].std()"
   ]
  },
  {
   "cell_type": "code",
   "execution_count": 13,
   "metadata": {
    "colab": {
     "base_uri": "https://localhost:8080/",
     "height": 351
    },
    "colab_type": "code",
    "id": "-Y1tzWGCgYjA",
    "outputId": "93a187e9-639c-4d86-a3e0-5a474c0572b1"
   },
   "outputs": [
    {
     "data": {
      "image/png": "[encoded data removed]",
      "text/plain": [
       "<Figure size 432x288 with 1 Axes>"
      ]
     },
     "metadata": {
      "needs_background": "light"
     },
     "output_type": "display_data"
    }
   ],
   "source": [
    "plt.hist(X_st[1]);"
   ]
  },
  {
   "cell_type": "code",
   "execution_count": 14,
   "metadata": {
    "colab": {},
    "colab_type": "code",
    "id": "ZlJUBOyzgkJV"
   },
   "outputs": [],
   "source": [
    "def calc_std_feat(x):\n",
    "    res = (x - x.mean()) / x.std()\n",
    "    return res"
   ]
  },
  {
   "cell_type": "code",
   "execution_count": 15,
   "metadata": {
    "colab": {},
    "colab_type": "code",
    "id": "6PlDlFY0hGZA"
   },
   "outputs": [
    {
     "name": "stdout",
     "output_type": "stream",
     "text": [
      "[-0.97958969 -0.56713087 -0.46401617 -0.77336028  0.97958969 -0.36090146\n",
      "  1.08270439  2.11385144 -1.08270439  0.05155735]\n",
      "[-0.89625816 -0.89625816  0.38411064 -0.89625816  0.38411064 -0.89625816\n",
      "  1.66447944  1.66447944 -0.89625816  0.38411064]\n"
     ]
    }
   ],
   "source": [
    "X_st[2] = calc_std_feat(X[2])\n",
    "X_st[3] = calc_std_feat(X[3])\n",
    "print(X_st[2])\n",
    "print(X_st[3])"
   ]
  },
  {
   "cell_type": "code",
   "execution_count": 16,
   "metadata": {},
   "outputs": [
    {
     "data": {
      "image/png": "[encoded data removed]",
      "text/plain": [
       "<Figure size 432x288 with 1 Axes>"
      ]
     },
     "metadata": {
      "needs_background": "light"
     },
     "output_type": "display_data"
    }
   ],
   "source": [
    "plt.hist(X_st[2]);"
   ]
  },
  {
   "cell_type": "markdown",
   "metadata": {
    "colab": {},
    "colab_type": "code",
    "id": "UdGy9tjVhZol"
   },
   "source": [
    "## Стохастический градиентный спуск (Stochastic Gradient Descent, SGD)"
   ]
  },
  {
   "cell_type": "code",
   "execution_count": 17,
   "metadata": {
    "colab": {},
    "colab_type": "code",
    "id": "VDpN7UxYnrcS"
   },
   "outputs": [],
   "source": [
    "def calc_mse(y, y_pred):\n",
    "    err = np.mean((y - y_pred)**2)\n",
    "    return err\n",
    "\n",
    "# Метод градиентного спуска\n",
    "def eval_GD(X, y, iterations, alpha=1e-4):\n",
    "    np.random.seed(42)\n",
    "    W = np.random.randn(X.shape[0])\n",
    "    n = X.shape[1]\n",
    "    for i in range(1, iterations + 1):\n",
    "        y_pred = np.dot(W, X)\n",
    "        err = calc_mse(y, y_pred)\n",
    "        W -= alpha * (1/n * 2 * np.dot((y_pred - y), X.T))\n",
    "        if i % (iterations / 10) == 0:\n",
    "            print(i, W, err)\n",
    "    return W"
   ]
  },
  {
   "cell_type": "code",
   "execution_count": 18,
   "metadata": {},
   "outputs": [
    {
     "data": {
      "text/plain": [
       "array([57.4       ,  6.12241513,  1.42846588,  4.11637116])"
      ]
     },
     "execution_count": 18,
     "metadata": {},
     "output_type": "execute_result"
    }
   ],
   "source": [
    "np.linalg.inv(X_st @ X_st.T) @ X_st @ y"
   ]
  },
  {
   "cell_type": "code",
   "execution_count": 19,
   "metadata": {},
   "outputs": [
    {
     "name": "stdout",
     "output_type": "stream",
     "text": [
      "0 [3871.344  3857.744  3855.3448 3859.344 ] 446.5657499999999\n",
      "10 [2.42909422e+57 2.42909422e+57 2.42909422e+57 2.42909422e+57] 1.2300472408312598e+110\n",
      "20 [1.53048187e+111 1.53048187e+111 1.53048187e+111 1.53048187e+111] 4.883030634381973e+217\n",
      "30 [9.6429967e+164 9.6429967e+164 9.6429967e+164 9.6429967e+164] inf\n",
      "40 [6.07569336e+218 6.07569336e+218 6.07569336e+218 6.07569336e+218] inf\n",
      "50 [3.82806828e+272 3.82806828e+272 3.82806828e+272 3.82806828e+272] inf\n"
     ]
    },
    {
     "name": "stderr",
     "output_type": "stream",
     "text": [
      "<ipython-input-17-4d8d823d46c6>:2: RuntimeWarning: overflow encountered in square\n",
      "  err = np.mean((y - y_pred)**2)\n"
     ]
    }
   ],
   "source": [
    "# Градиентный спуск на исходных данных не сходится! Нужна стандартизация!\n",
    "n = X.shape[1]\n",
    "alpha = 1e-1\n",
    "lambda_ = 0.1\n",
    "w = np.array([20., 3., 0.001, 5.])\n",
    "\n",
    "for i in range(50+1):\n",
    "    y_pred = np.dot(w, X)\n",
    "    err = calc_mse(y, y_pred)\n",
    "    w -= (alpha * (1/n * 2 * np.sum(X * (y_pred - y))) + 2 * lambda_ * w)\n",
    "    if i % 10 == 0:\n",
    "        print(i, w, err)"
   ]
  },
  {
   "cell_type": "code",
   "execution_count": 20,
   "metadata": {
    "colab": {
     "base_uri": "https://localhost:8080/",
     "height": 207
    },
    "colab_type": "code",
    "id": "4nsYMAGjmFlB",
    "outputId": "71a5878c-8bcd-4d73-9f43-2df2b94ecd81"
   },
   "outputs": [
    {
     "name": "stdout",
     "output_type": "stream",
     "text": [
      "100 [49.8535115   3.66668135  3.48290916  4.46269156] 100.15332717810286\n",
      "200 [56.39918805  4.16741325  3.166684    4.31348189] 41.5219247890087\n",
      "300 [57.26727276  4.55529967  2.89027948  4.20488959] 40.256888196369076\n",
      "400 [57.38239777  4.86307305  2.65691244  4.13291608] 40.08337439123222\n",
      "500 [57.3976656   5.10794282  2.46013454  4.08693806] 39.981548483401845\n",
      "600 [57.39969041  5.30327372  2.29437853  4.05919065] 39.914689617449326\n",
      "700 [57.39995894  5.45948993  2.15488025  4.04404572] 39.87030433808672\n",
      "800 [57.39999455  5.58474142  2.03757468  4.03744875] 39.84062200753524\n",
      "900 [57.39999928  5.6854157   1.93900185  4.03650044] 39.82064430860322\n",
      "1000 [57.3999999   5.76653146  1.85622321  4.03914637] 39.807122578500255\n",
      "39.80701204691676 39.777746035558295 39.77774603555833\n"
     ]
    }
   ],
   "source": [
    "w_gd_st = eval_GD(X_st, y, iterations=1000, alpha=1e-2)\n",
    "y_pred = np.dot(w_gd_st, X_st)\n",
    "err_st = calc_mse(y, y_pred)\n",
    "\n",
    "#w_gd = eval_GD(X, y, iterations=1000, alpha=1e-2)\n",
    "#y_pred = np.dot(w_gd, X)\n",
    "#err = calc_mse(y, y_pred)\n",
    "\n",
    "w_sq_st = np.linalg.inv(X_st @ X_st.T) @ X_st @ y\n",
    "y_pred = np.dot(w_sq_st, X_st)\n",
    "err_sq = calc_mse(y, y_pred)\n",
    "\n",
    "w_sq = np.linalg.inv(X @ X.T) @ X @ y\n",
    "y_pred = np.dot(w_sq, X)\n",
    "err = calc_mse(y, y_pred)\n",
    "\n",
    "print(err_st, err, err_sq)"
   ]
  },
  {
   "cell_type": "code",
   "execution_count": 21,
   "metadata": {
    "colab": {},
    "colab_type": "code",
    "id": "nCcMmNdQmxDp"
   },
   "outputs": [],
   "source": [
    "# Метод стохастического градиентного спуска (mini-batch SGD)\n",
    "def eval_SGD(X, y, iterations, qty_in_batch, alpha=1e-4):\n",
    "    np.random.seed(42)\n",
    "    W = np.random.randn(X.shape[0]) # начальное приближение весов\n",
    "    n = X.shape[1] # число наблюдений\n",
    "    n_batch = n // qty_in_batch\n",
    "    if n % qty_in_batch != 0:\n",
    "        n_batch += 1\n",
    "    # print(n_batch)\n",
    "    for i in range(1, iterations + 1):\n",
    "        for b in range(n_batch):\n",
    "            start_ = qty_in_batch * b\n",
    "            end_ = qty_in_batch * (b + 1)\n",
    "            X_tmp = X[:, start_ : end_]\n",
    "            y_tmp = y[start_ : end_]\n",
    "            y_pred_tmp = np.dot(W, X_tmp)\n",
    "            err = calc_mse(y_tmp, y_pred_tmp)\n",
    "            W -= alpha * (1/n * 2 * np.dot((y_pred_tmp - y_tmp), X_tmp.T))\n",
    "        if i % (iterations / 10) == 0:\n",
    "            print(i, W, err)\n",
    "    return W"
   ]
  },
  {
   "cell_type": "code",
   "execution_count": 22,
   "metadata": {
    "colab": {
     "base_uri": "https://localhost:8080/",
     "height": 207
    },
    "colab_type": "code",
    "id": "2aXap4Vsm3GV",
    "outputId": "af0f4e17-d075-47e7-c848-44c637dadb67"
   },
   "outputs": [
    {
     "name": "stdout",
     "output_type": "stream",
     "text": [
      "100 [10.8180538   1.29708149  1.98771474  2.85579396] 2313.447900382401\n",
      "200 [19.26728006  2.14818814  2.73911058  3.6095245 ] 1485.3622747585564\n",
      "300 [26.18395752  2.6633213   3.1529941   4.03134273] 966.0865193677895\n",
      "400 [31.84606228  2.98501903  3.37351129  4.26309259] 634.9580889303085\n",
      "500 [36.48115179  3.19511829  3.48339473  4.38617789] 421.7489498674357\n",
      "600 [40.2755092   3.34060674  3.53012056  4.44730514] 283.805256121405\n",
      "700 [43.38162939  3.44846526  3.54092595  4.47326314] 194.4484902168637\n",
      "800 [45.92434744  3.53418945  3.53143093  4.47940828] 136.66258928727683\n",
      "900 [48.00585546  3.606682    3.51058804  4.47453575] 99.45587115636224\n",
      "1000 [49.70980963  3.67106135  3.48352383  4.46367605] 75.6715685980603\n",
      "Wall time: 62 ms\n"
     ]
    },
    {
     "data": {
      "text/plain": [
       "array([49.70980963,  3.67106135,  3.48352383,  4.46367605])"
      ]
     },
     "execution_count": 22,
     "metadata": {},
     "output_type": "execute_result"
    }
   ],
   "source": [
    "%%time\n",
    "\n",
    "eval_SGD(X_st, y, iterations=1000, qty_in_batch=5, alpha=1e-3) # 100.15781666892349"
   ]
  },
  {
   "cell_type": "markdown",
   "metadata": {},
   "source": [
    "## Регуляризация"
   ]
  },
  {
   "cell_type": "markdown",
   "metadata": {
    "colab": {},
    "colab_type": "code",
    "id": "DYTxT_6OrZpe"
   },
   "source": [
    "### L1 регуляризация - Lasso"
   ]
  },
  {
   "cell_type": "markdown",
   "metadata": {},
   "source": [
    "$$\\sum^{n}_{i=1}L_i(\\vec{x}_i,{y_i},\\vec{w}) + \\lambda \\sum^{m}_{j=1}|w_{j}| \\rightarrow \\underset{w}{\\text{min}}$$"
   ]
  },
  {
   "cell_type": "markdown",
   "metadata": {
    "colab": {},
    "colab_type": "code",
    "id": "j38vId7Hvtg0"
   },
   "source": [
    "### L2 регуляризация - Ridge"
   ]
  },
  {
   "cell_type": "markdown",
   "metadata": {},
   "source": [
    "$$\\sum^{n}_{i=1}L_i(\\vec{x}_i,y_i,\\vec{w}) + \\lambda \\sum^{m}_{j=1}w_{j}^{2} \\rightarrow \\underset{w}{\\text{min}}$$"
   ]
  },
  {
   "cell_type": "code",
   "execution_count": 23,
   "metadata": {
    "colab": {},
    "colab_type": "code",
    "id": "7AVoe1Mswjni"
   },
   "outputs": [],
   "source": [
    "def eval_model_reg2(X, y, iterations, alpha=1e-4, lambda_=1e-8):\n",
    "    np.random.seed(42)\n",
    "    W = np.random.randn(X.shape[0])\n",
    "    n = X.shape[1]\n",
    "    for i in range(1, iterations + 1):\n",
    "        y_pred = np.dot(W, X)\n",
    "        err = calc_mse(y, y_pred)\n",
    "        W -= alpha * (1/n * 2 * np.dot((y_pred - y), X.T) + 2 * lambda_ * W)\n",
    "        if i % (iterations / 10) == 0:\n",
    "            print(i, W, err)\n",
    "    return W"
   ]
  },
  {
   "cell_type": "code",
   "execution_count": 24,
   "metadata": {
    "colab": {
     "base_uri": "https://localhost:8080/",
     "height": 207
    },
    "colab_type": "code",
    "id": "vLJL6j8Lw6OA",
    "outputId": "84591f9f-2c7d-42fc-f2e2-5d2614be6113"
   },
   "outputs": [
    {
     "name": "stdout",
     "output_type": "stream",
     "text": [
      "100 [10.81977943  1.29188479  1.98326638  2.85123887] 2248.174495966113\n",
      "200 [19.26820475  2.14025079  2.73257885  3.60272972] 1510.52005056178\n",
      "300 [26.18241951  2.65414327  3.14578694  4.02368617] 1022.7641434294361\n",
      "400 [31.84103209  2.97547956  3.36642337  4.25535143] 698.0693104166692\n",
      "500 [36.47205635  3.18570474  3.47683987  4.37875637] 481.18204747799444\n",
      "600 [40.26209948  3.33156577  3.52428387  4.44038363] 336.04984524294935\n",
      "700 [43.36388132  3.43990014  3.53586071  4.46689313] 238.83798105676905\n",
      "800 [45.90238819  3.52612135  3.5271187   4.47357128] 173.68373121426237\n",
      "900 [47.97990927  3.59908764  3.50697503  4.46917888] 129.99460131981883\n",
      "1000 [49.68015829  3.66389563  3.48054215  4.45873282] 100.6854252225823\n"
     ]
    },
    {
     "data": {
      "text/plain": [
       "array([49.68015829,  3.66389563,  3.48054215,  4.45873282])"
      ]
     },
     "execution_count": 24,
     "metadata": {},
     "output_type": "execute_result"
    }
   ],
   "source": [
    "eval_model_reg2(X_st, y, iterations=1000, alpha=1e-3, lambda_=0.001)"
   ]
  },
  {
   "cell_type": "code",
   "execution_count": 25,
   "metadata": {
    "colab": {},
    "colab_type": "code",
    "id": "WLREMakFxQgX"
   },
   "outputs": [],
   "source": [
    "# В некоторых алгоритмах используется обратный коэффициент\n",
    "lambda_=1e-5\n",
    "C = 1/lambda_"
   ]
  },
  {
   "cell_type": "markdown",
   "metadata": {},
   "source": [
    "## Домашние задания"
   ]
  },
  {
   "cell_type": "markdown",
   "metadata": {},
   "source": [
    "1. Постройте график зависимости весов всех признаков от lambda в L2-регуляризации (на данных из урока).  \n",
    "\n",
    "2. Можно ли к одному и тому же признаку применить сразу и нормализацию, и стандартизацию?  \n",
    "\n",
    "3. *Напишите функцию наподобие eval_model_reg2, но для применения L1-регуляризации.\n",
    "\n",
    "4. *Сравните на графиках изменение весов признаков от lambda в L1-регуляризации и L2-регуляризации (на данных из урока).\n",
    "\n",
    "5. *Постройте графики зависимости весов двух признаков (стаж и стоимость занятия) от количества итераций для градиентного спуска и для стохастического градиентного спуска (на данных из урока)."
   ]
  },
  {
   "cell_type": "markdown",
   "metadata": {},
   "source": [
    "## Task №1"
   ]
  },
  {
   "cell_type": "code",
   "execution_count": 35,
   "metadata": {},
   "outputs": [],
   "source": [
    "def eval_model_reg2(X, y, iterations, alpha=1e-4, lambda_=1e-8):\n",
    "    iteration_data = []\n",
    "    np.random.seed(42)\n",
    "    W = np.random.randn(X.shape[0])\n",
    "    n = X.shape[1]\n",
    "    for i in range(1, iterations + 1):\n",
    "        y_pred = np.dot(W, X)\n",
    "        err = calc_mse(y, y_pred)\n",
    "        W -= alpha * (1/n * 2 * np.dot((y_pred - y), X.T) + 2 * lambda_ * W)\n",
    "    return W"
   ]
  },
  {
   "cell_type": "code",
   "execution_count": 161,
   "metadata": {
    "scrolled": true
   },
   "outputs": [
    {
     "data": {
      "text/plain": [
       "array([[4.97140424e+01, 3.66443213e+00, 3.48148744e+00, 4.46133044e+00,\n",
       "        1.00000000e-05],\n",
       "       [4.97138822e+01, 3.66442960e+00, 3.48148297e+00, 4.46131816e+00,\n",
       "        1.46779927e-05],\n",
       "       [4.97136471e+01, 3.66442588e+00, 3.48147641e+00, 4.46130013e+00,\n",
       "        2.15443469e-05],\n",
       "       [4.97133020e+01, 3.66442043e+00, 3.48146679e+00, 4.46127367e+00,\n",
       "        3.16227766e-05],\n",
       "       [4.97127954e+01, 3.66441242e+00, 3.48145266e+00, 4.46123483e+00,\n",
       "        4.64158883e-05],\n",
       "       [4.97120519e+01, 3.66440066e+00, 3.48143192e+00, 4.46117782e+00,\n",
       "        6.81292069e-05],\n",
       "       [4.97109605e+01, 3.66438340e+00, 3.48140149e+00, 4.46109415e+00,\n",
       "        1.00000000e-04],\n",
       "       [4.97093588e+01, 3.66435807e+00, 3.48135681e+00, 4.46097135e+00,\n",
       "        1.46779927e-04],\n",
       "       [4.97070078e+01, 3.66432088e+00, 3.48129124e+00, 4.46079111e+00,\n",
       "        2.15443469e-04],\n",
       "       [4.97035574e+01, 3.66426628e+00, 3.48119500e+00, 4.46052658e+00,\n",
       "        3.16227766e-04],\n",
       "       [4.96984937e+01, 3.66418613e+00, 3.48105375e+00, 4.46013837e+00,\n",
       "        4.64158883e-04],\n",
       "       [4.96910625e+01, 3.66406845e+00, 3.48084642e+00, 4.45956870e+00,\n",
       "        6.81292069e-04],\n",
       "       [4.96801583e+01, 3.66389563e+00, 3.48054215e+00, 4.45873282e+00,\n",
       "        1.00000000e-03],\n",
       "       [4.96641599e+01, 3.66364178e+00, 3.48009559e+00, 4.45750657e+00,\n",
       "        1.46779927e-03],\n",
       "       [4.96406924e+01, 3.66326878e+00, 3.47944029e+00, 4.45570804e+00,\n",
       "        2.15443469e-03],\n",
       "       [4.96062785e+01, 3.66272044e+00, 3.47847873e+00, 4.45307112e+00,\n",
       "        3.16227766e-03],\n",
       "       [4.95558344e+01, 3.66191378e+00, 3.47706802e+00, 4.44920698e+00,\n",
       "        4.64158883e-03],\n",
       "       [4.94819397e+01, 3.66072587e+00, 3.47499879e+00, 4.44354885e+00,\n",
       "        6.81292069e-03],\n",
       "       [4.93737933e+01, 3.65897390e+00, 3.47196461e+00, 4.43527309e+00,\n",
       "        1.00000000e-02],\n",
       "       [4.92157345e+01, 3.65638461e+00, 3.46751762e+00, 4.42318862e+00,\n",
       "        1.46779927e-02],\n",
       "       [4.89851876e+01, 3.65254636e+00, 3.46100444e+00, 4.40558492e+00,\n",
       "        2.15443469e-02],\n",
       "       [4.86498891e+01, 3.64683334e+00, 3.45147485e+00, 4.38003111e+00,\n",
       "        3.16227766e-02],\n",
       "       [4.81643201e+01, 3.63828290e+00, 3.43755288e+00, 4.34312601e+00,\n",
       "        4.64158883e-02],\n",
       "       [4.74654951e+01, 3.62539545e+00, 3.41725935e+00, 4.29022134e+00,\n",
       "        6.81292069e-02],\n",
       "       [4.64688080e+01, 3.60580753e+00, 3.38777614e+00, 4.21518874e+00,\n",
       "        1.00000000e-01]])"
      ]
     },
     "execution_count": 161,
     "metadata": {},
     "output_type": "execute_result"
    }
   ],
   "source": [
    "lambdas = np.geomspace(start=1e-5, stop=1e-1, num=25)\n",
    "res = []\n",
    "for l in lambdas:\n",
    "    out = list(eval_model_reg2(X_st, y, iterations=1000, alpha=1e-3, lambda_=l))\n",
    "    out.append(l)\n",
    "    res.append(out)\n",
    "    \n",
    "res = np.array(res)\n",
    "res"
   ]
  },
  {
   "cell_type": "code",
   "execution_count": 164,
   "metadata": {},
   "outputs": [
    {
     "data": {
      "image/png": "[encoded data removed]",
      "text/plain": [
       "<Figure size 1152x936 with 4 Axes>"
      ]
     },
     "metadata": {
      "needs_background": "light"
     },
     "output_type": "display_data"
    }
   ],
   "source": [
    "fig, axs = plt.subplots(2, 2, figsize=(16, 13))\n",
    "axs[0, 0].plot(res[:,4], res[:,0])\n",
    "axs[0, 1].plot(res[:,4], res[:,1], 'tab:orange')\n",
    "axs[1, 0].plot(res[:,4], res[:,2], 'tab:green')\n",
    "axs[1, 1].plot(res[:,4], res[:,3], 'tab:red')\n",
    "\n",
    "for i, ax in enumerate(axs.flat):\n",
    "    ax.set(xlabel='l', ylabel='w')\n",
    "    ax.set_title(f'l, w_{i+1}')\n",
    "    ax.set_xscale('log')"
   ]
  },
  {
   "cell_type": "markdown",
   "metadata": {},
   "source": [
    "## Task №2"
   ]
  },
  {
   "cell_type": "code",
   "execution_count": 150,
   "metadata": {},
   "outputs": [],
   "source": [
    "def calc_norm_feat(x):\n",
    "    res = (x - x.min()) / (x.max() - x.min())\n",
    "    return res"
   ]
  },
  {
   "cell_type": "code",
   "execution_count": 158,
   "metadata": {},
   "outputs": [
    {
     "name": "stdout",
     "output_type": "stream",
     "text": [
      "[-0.57142857 -0.57142857 -0.21428571 -0.57142857  0.14285714 -0.92857143\n",
      "  0.85714286  2.64285714 -0.57142857 -0.21428571]\n"
     ]
    }
   ],
   "source": [
    "print(calc_std_feat(calc_norm_feat(X[1])))"
   ]
  },
  {
   "cell_type": "code",
   "execution_count": 159,
   "metadata": {},
   "outputs": [
    {
     "name": "stdout",
     "output_type": "stream",
     "text": [
      "[-0.57142857 -0.57142857 -0.21428571 -0.57142857  0.14285714 -0.92857143\n",
      "  0.85714286  2.64285714 -0.57142857 -0.21428571]\n"
     ]
    }
   ],
   "source": [
    "print(calc_std_feat(X[1]))"
   ]
  },
  {
   "cell_type": "code",
   "execution_count": 160,
   "metadata": {},
   "outputs": [
    {
     "name": "stdout",
     "output_type": "stream",
     "text": [
      "[0.1 0.1 0.2 0.1 0.3 0.  0.5 1.  0.1 0.2]\n"
     ]
    }
   ],
   "source": [
    "print(calc_norm_feat(calc_std_feat(X[1])))"
   ]
  },
  {
   "cell_type": "markdown",
   "metadata": {},
   "source": [
    "### Ответ: можно, если сначала применить нормализацию, а затем стандартизацию."
   ]
  },
  {
   "cell_type": "code",
   "execution_count": null,
   "metadata": {},
   "outputs": [],
   "source": []
  }
 ],
 "metadata": {
  "colab": {
   "collapsed_sections": [],
   "name": "Lesson2.ipynb",
   "provenance": []
  },
  "kernelspec": {
   "display_name": "Python 3",
   "language": "python",
   "name": "python3"
  },
  "language_info": {
   "codemirror_mode": {
    "name": "ipython",
    "version": 3
   },
   "file_extension": ".py",
   "mimetype": "text/x-python",
   "name": "python",
   "nbconvert_exporter": "python",
   "pygments_lexer": "ipython3",
   "version": "3.8.5"
  },
  "toc": {
   "base_numbering": 1,
   "nav_menu": {},
   "number_sections": false,
   "sideBar": true,
   "skip_h1_title": true,
   "title_cell": "План урока",
   "title_sidebar": "План",
   "toc_cell": true,
   "toc_position": {
    "height": "calc(100% - 180px)",
    "left": "10px",
    "top": "150px",
    "width": "165px"
   },
   "toc_section_display": true,
   "toc_window_display": true
  }
 },
 "nbformat": 4,
 "nbformat_minor": 1
}
